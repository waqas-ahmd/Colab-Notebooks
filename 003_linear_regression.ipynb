{
  "nbformat": 4,
  "nbformat_minor": 0,
  "metadata": {
    "colab": {
      "name": "003-linear-regression.ipynb",
      "provenance": [],
      "authorship_tag": "ABX9TyO1j71NFZxRAhX/5tPTb6sb",
      "include_colab_link": true
    },
    "kernelspec": {
      "name": "python3",
      "display_name": "Python 3"
    }
  },
  "cells": [
    {
      "cell_type": "markdown",
      "metadata": {
        "id": "view-in-github",
        "colab_type": "text"
      },
      "source": [
        "<a href=\"https://colab.research.google.com/github/waqas-ahmd/Colab-Notebooks/blob/main/003_linear_regression.ipynb\" target=\"_parent\"><img src=\"https://colab.research.google.com/assets/colab-badge.svg\" alt=\"Open In Colab\"/></a>"
      ]
    },
    {
      "cell_type": "code",
      "metadata": {
        "id": "YsoWF4ZOBkab"
      },
      "source": [
        "!pip install -q sklearn"
      ],
      "execution_count": 2,
      "outputs": []
    },
    {
      "cell_type": "code",
      "metadata": {
        "id": "Y42fK_ADBUw8"
      },
      "source": [
        "from __future__ import absolute_import, division, print_function, unicode_literals\r\n",
        "\r\n",
        "import numpy as np\r\n",
        "import pandas as pd\r\n",
        "import matplotlib.pyplot as plt\r\n",
        "from IPython.display import clear_output\r\n",
        "from six.moves import urllib\r\n",
        "\r\n",
        "import tensorflow.compat.v2.feature_column as fc\r\n",
        "import tensorflow as tf"
      ],
      "execution_count": 3,
      "outputs": []
    },
    {
      "cell_type": "code",
      "metadata": {
        "id": "N8ZNKTFNBm5G",
        "outputId": "6f0e98df-18ad-46cf-f3d8-b2b61ee8b60c",
        "colab": {
          "base_uri": "https://localhost:8080/"
        }
      },
      "source": [
        "dftrain = pd.read_csv(\"https://storage.googleapis.com/tf-datasets/titanic/train.csv\")\r\n",
        "dfeval = pd.read_csv(\"https://storage.googleapis.com/tf-datasets/titanic/eval.csv\")\r\n",
        "y_train = dftrain.pop(\"survived\")\r\n",
        "y_eval = dfeval.pop(\"survived\")\r\n",
        "\r\n",
        "CATEGORICAL_COLUMNS = [\"sex\", \"n_siblings_spouses\", \"parch\" , \"class\", \"deck\" ,\"embark_town\", \"alone\"]\r\n",
        "NUMERIC_COLUMNS = [\"age\", \"fare\"]\r\n",
        "\r\n",
        "feature_columns = []\r\n",
        "\r\n",
        "for feature_name in CATEGORICAL_COLUMNS: \r\n",
        "  vocabolary = dftrain[feature_name].unique()\r\n",
        "  feature_columns.append(tf.feature_column.categorical_column_with_vocabulary_list(feature_name, vocabolary))\r\n",
        "\r\n",
        "for feature_name in NUMERIC_COLUMNS:\r\n",
        "  feature_columns.append(tf.feature_column.numeric_column(feature_name, dtype=tf.float32))\r\n",
        "\r\n",
        "print(feature_columns)\r\n"
      ],
      "execution_count": 5,
      "outputs": [
        {
          "output_type": "stream",
          "text": [
            "[VocabularyListCategoricalColumn(key='sex', vocabulary_list=('male', 'female'), dtype=tf.string, default_value=-1, num_oov_buckets=0), VocabularyListCategoricalColumn(key='n_siblings_spouses', vocabulary_list=(1, 0, 3, 4, 2, 5, 8), dtype=tf.int64, default_value=-1, num_oov_buckets=0), VocabularyListCategoricalColumn(key='parch', vocabulary_list=(0, 1, 2, 5, 3, 4), dtype=tf.int64, default_value=-1, num_oov_buckets=0), VocabularyListCategoricalColumn(key='class', vocabulary_list=('Third', 'First', 'Second'), dtype=tf.string, default_value=-1, num_oov_buckets=0), VocabularyListCategoricalColumn(key='deck', vocabulary_list=('unknown', 'C', 'G', 'A', 'B', 'D', 'F', 'E'), dtype=tf.string, default_value=-1, num_oov_buckets=0), VocabularyListCategoricalColumn(key='embark_town', vocabulary_list=('Southampton', 'Cherbourg', 'Queenstown', 'unknown'), dtype=tf.string, default_value=-1, num_oov_buckets=0), VocabularyListCategoricalColumn(key='alone', vocabulary_list=('n', 'y'), dtype=tf.string, default_value=-1, num_oov_buckets=0), NumericColumn(key='age', shape=(1,), default_value=None, dtype=tf.float32, normalizer_fn=None), NumericColumn(key='fare', shape=(1,), default_value=None, dtype=tf.float32, normalizer_fn=None)]\n"
          ],
          "name": "stdout"
        }
      ]
    },
    {
      "cell_type": "code",
      "metadata": {
        "id": "IkWIDa6kB4OB"
      },
      "source": [
        "def make_input_fn(data_df, label_df, num_epochs=10, shuffle=True, batch_size=32):\r\n",
        "  def input_function():\r\n",
        "    ds = tf.data.Dataset.from_tensor_slices((dict(data_df), label_df))\r\n",
        "    if shuffle:\r\n",
        "      ds = ds.shuffle(1000)\r\n",
        "    ds = ds.batch(batch_size).repeat(num_epochs)\r\n",
        "    return ds\r\n",
        "  return input_function\r\n",
        "\r\n",
        "train_input_fn = make_input_fn(dftrain, y_train)\r\n",
        "eval_input_fn = make_input_fn(dfeval, y_eval, num_epochs=1, shuffle=False)\r\n",
        "\r\n",
        "linear_est = tf.estimator.LinearClassifier(feature_columns=feature_columns)\r\n",
        "linear_est.train(train_input_fn)\r\n",
        "result = linear_est.evaluate(eval_input_fn)\r\n",
        "\r\n",
        "clear_output()\r\n",
        "print(result)"
      ],
      "execution_count": 6,
      "outputs": []
    }
  ]
}