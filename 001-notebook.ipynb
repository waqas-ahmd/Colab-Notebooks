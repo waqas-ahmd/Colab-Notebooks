{
  "nbformat": 4,
  "nbformat_minor": 0,
  "metadata": {
    "kernelspec": {
      "display_name": "Python 3",
      "language": "python",
      "name": "python3"
    },
    "language_info": {
      "codemirror_mode": {
        "name": "ipython",
        "version": 3
      },
      "file_extension": ".py",
      "mimetype": "text/x-python",
      "name": "python",
      "nbconvert_exporter": "python",
      "pygments_lexer": "ipython3",
      "version": "3.8.3"
    },
    "colab": {
      "name": "001-notebook.ipynb",
      "provenance": [],
      "include_colab_link": true
    }
  },
  "cells": [
    {
      "cell_type": "markdown",
      "metadata": {
        "id": "view-in-github",
        "colab_type": "text"
      },
      "source": [
        "<a href=\"https://colab.research.google.com/github/waqas-ahmd/Colab-Notebooks/blob/main/001-notebook.ipynb\" target=\"_parent\"><img src=\"https://colab.research.google.com/assets/colab-badge.svg\" alt=\"Open In Colab\"/></a>"
      ]
    },
    {
      "cell_type": "code",
      "metadata": {
        "colab": {
          "base_uri": "https://localhost:8080/"
        },
        "id": "TEK6nYKxLIHP",
        "outputId": "f81751c2-feec-46c3-e2db-45383d127781"
      },
      "source": [
        "import tensorflow as tf\r\n",
        "print(tf.version)"
      ],
      "execution_count": 1,
      "outputs": [
        {
          "output_type": "stream",
          "text": [
            "<module 'tensorflow._api.v2.version' from '/usr/local/lib/python3.6/dist-packages/tensorflow/_api/v2/version/__init__.py'>\n"
          ],
          "name": "stdout"
        }
      ]
    },
    {
      "cell_type": "markdown",
      "metadata": {
        "id": "7Yc30OH2ZgYR"
      },
      "source": [
        "### Variables and Tensors"
      ]
    },
    {
      "cell_type": "markdown",
      "metadata": {
        "id": "eT09Ip4daNTM"
      },
      "source": [
        "####Variables and Types"
      ]
    },
    {
      "cell_type": "code",
      "metadata": {
        "colab": {
          "base_uri": "https://localhost:8080/"
        },
        "id": "OPz1kOVrZORi",
        "outputId": "0b3dcd0f-7c36-47c7-8f23-7137fdbce608"
      },
      "source": [
        "string = tf.Variable(\"String Variable\", tf.string)\r\n",
        "integer = tf.Variable(22, tf.int32)\r\n",
        "floating = tf.Variable(3.14, tf.float32)\r\n",
        "print(string, integer, floating)"
      ],
      "execution_count": 5,
      "outputs": [
        {
          "output_type": "stream",
          "text": [
            "<tf.Variable 'Variable:0' shape=() dtype=string, numpy=b'String Variable'> <tf.Variable 'Variable:0' shape=() dtype=int32, numpy=22> <tf.Variable 'Variable:0' shape=() dtype=float32, numpy=3.14>\n"
          ],
          "name": "stdout"
        }
      ]
    },
    {
      "cell_type": "markdown",
      "metadata": {
        "id": "NLK8TYzjaVKC"
      },
      "source": [
        "####Rank and Shape"
      ]
    },
    {
      "cell_type": "code",
      "metadata": {
        "colab": {
          "base_uri": "https://localhost:8080/"
        },
        "id": "2AO50J5kabaS",
        "outputId": "f88a0828-5e2b-4bc9-ecb1-b7aa1ff0b811"
      },
      "source": [
        "tensor_1 = tf.Variable([2,3], tf.int32)\r\n",
        "tf.rank(tensor_1)"
      ],
      "execution_count": 12,
      "outputs": [
        {
          "output_type": "execute_result",
          "data": {
            "text/plain": [
              "<tf.Tensor: shape=(), dtype=int32, numpy=1>"
            ]
          },
          "metadata": {
            "tags": []
          },
          "execution_count": 12
        }
      ]
    },
    {
      "cell_type": "code",
      "metadata": {
        "colab": {
          "base_uri": "https://localhost:8080/"
        },
        "id": "zf45lOHtboXV",
        "outputId": "eaf1a336-1b73-4879-fed9-e1cd0292943d"
      },
      "source": [
        "tensor_1.shape"
      ],
      "execution_count": 13,
      "outputs": [
        {
          "output_type": "execute_result",
          "data": {
            "text/plain": [
              "TensorShape([2])"
            ]
          },
          "metadata": {
            "tags": []
          },
          "execution_count": 13
        }
      ]
    },
    {
      "cell_type": "code",
      "metadata": {
        "colab": {
          "base_uri": "https://localhost:8080/"
        },
        "id": "u4zE2ZYaauXu",
        "outputId": "3755170f-aa81-4e9a-dc1a-4ffd56ce89ae"
      },
      "source": [
        "tensor_2 = tf.Variable([[1,2,3],[4,5,6]], tf.int32)\r\n",
        "tf.rank(tensor_2)"
      ],
      "execution_count": 15,
      "outputs": [
        {
          "output_type": "execute_result",
          "data": {
            "text/plain": [
              "<tf.Tensor: shape=(), dtype=int32, numpy=2>"
            ]
          },
          "metadata": {
            "tags": []
          },
          "execution_count": 15
        }
      ]
    },
    {
      "cell_type": "code",
      "metadata": {
        "colab": {
          "base_uri": "https://localhost:8080/"
        },
        "id": "__hA6Cx7btta",
        "outputId": "d9f2aaea-fb8f-4abb-fc91-fbadd145bdd8"
      },
      "source": [
        "tensor_2.shape"
      ],
      "execution_count": 16,
      "outputs": [
        {
          "output_type": "execute_result",
          "data": {
            "text/plain": [
              "TensorShape([2, 3])"
            ]
          },
          "metadata": {
            "tags": []
          },
          "execution_count": 16
        }
      ]
    },
    {
      "cell_type": "markdown",
      "metadata": {
        "id": "rbIb4t00cgvU"
      },
      "source": [
        "####Reshaping Tensors "
      ]
    },
    {
      "cell_type": "code",
      "metadata": {
        "colab": {
          "base_uri": "https://localhost:8080/"
        },
        "id": "JYQbx8hBclHF",
        "outputId": "e682129f-9d2f-44c3-a60d-ec80d656f733"
      },
      "source": [
        "tensor_3 = tf.ones([1,2,3], tf.int32)\r\n",
        "print(tensor_3)\r\n",
        "tensor_3a = tf.reshape(tensor_3,[3,1,2])\r\n",
        "print(tensor_3a)\r\n",
        "tensor_3b = tf.reshape(tensor_3,[3,-1])\r\n",
        "print(tensor_3b) "
      ],
      "execution_count": 23,
      "outputs": [
        {
          "output_type": "stream",
          "text": [
            "tf.Tensor(\n",
            "[[[1 1 1]\n",
            "  [1 1 1]]], shape=(1, 2, 3), dtype=int32)\n",
            "tf.Tensor(\n",
            "[[[1 1]]\n",
            "\n",
            " [[1 1]]\n",
            "\n",
            " [[1 1]]], shape=(3, 1, 2), dtype=int32)\n",
            "tf.Tensor(\n",
            "[[1 1]\n",
            " [1 1]\n",
            " [1 1]], shape=(3, 2), dtype=int32)\n"
          ],
          "name": "stdout"
        }
      ]
    },
    {
      "cell_type": "markdown",
      "metadata": {
        "id": "_GAF85CZgY5g"
      },
      "source": [
        "####Types of Tensors\r\n",
        "\r\n",
        "\r\n",
        "1.   Variables \r\n",
        "2.   Constants\r\n",
        "3.   Placeholders\r\n",
        "4.   SpareTensors\r\n",
        "\r\n"
      ]
    }
  ]
}